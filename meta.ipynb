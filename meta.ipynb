{
 "cells": [
  {
   "cell_type": "markdown",
   "metadata": {
    "slideshow": {
     "slide_type": "slide"
    }
   },
   "source": [
    "# Links\n",
    "\n",
    "## Slides and Stats\n",
    "**Github**: https://github.com/mayflower/nixpkgs-stats\n",
    "\n",
    "**Gitlab**: https://git.mayflower.de/open-source/nixpkgs-stats\n",
    "\n",
    "*git-lfs needed, github might rate-limit*\n",
    "\n",
    "Builds at https://hydra.mayflower.de/jobset/mayflower/nixpkgs-stats (*Slides link doesn't render properly, yet*)\n",
    "\n",
    "## We need more\n",
    "If you have ideas for more stats just open an issue or add it yourself, all of these are Jupyter Notebooks\n",
    "\n",
    "## Data\n",
    "All in the repository, generated with `git-pandas` and `python-github-backup`, might be hosted somewhere else in future (git-lfs is slow with many files)"
   ]
  }
 ],
 "metadata": {
  "celltoolbar": "Slideshow",
  "kernelspec": {
   "display_name": "Python 3",
   "language": "python",
   "name": "python3"
  },
  "language_info": {
   "codemirror_mode": {
    "name": "ipython",
    "version": 3
   },
   "file_extension": ".py",
   "mimetype": "text/x-python",
   "name": "python",
   "nbconvert_exporter": "python",
   "pygments_lexer": "ipython3",
   "version": "3.6.3"
  }
 },
 "nbformat": 4,
 "nbformat_minor": 2
}
